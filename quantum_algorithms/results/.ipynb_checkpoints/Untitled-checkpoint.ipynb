{
 "cells": [
  {
   "cell_type": "code",
   "execution_count": 123,
   "id": "0e7d4c9e",
   "metadata": {},
   "outputs": [
    {
     "name": "stdout",
     "output_type": "stream",
     "text": [
      "qaoa_euc_shape3_paramseed-18_p-18.txt\n",
      "10\n"
     ]
    }
   ],
   "source": [
    "filestr='server/new/5_fqaoa_bash.txt'\n",
    "f = open(filestr, \"r\")\n",
    "data=f.read()\n",
    "f.close()\n",
    "inst=data.split('$')\n",
    "if inst[0]=='':\n",
    "    inst=inst[1:]\n",
    "\n",
    "print(inst[0])\n",
    "print(len(inst))\n"
   ]
  },
  {
   "cell_type": "code",
   "execution_count": 124,
   "id": "c6a809fe",
   "metadata": {},
   "outputs": [],
   "source": [
    "typ='qaoa/'\n",
    "#typ='hadfield/'\n",
    "#typ='gsaoa/'\n",
    "for i in range(0,len(inst),2):\n",
    "    filestr=typ+inst[i]\n",
    "    data=inst[i+1]\n",
    "    L = [data] \n",
    "    file1 = open(filestr,\"a\")\n",
    "    file1.writelines(L)\n",
    "    file1.close()\n"
   ]
  },
  {
   "cell_type": "code",
   "execution_count": null,
   "id": "058e869f",
   "metadata": {},
   "outputs": [],
   "source": []
  }
 ],
 "metadata": {
  "kernelspec": {
   "display_name": "Python [conda env:root] *",
   "language": "python",
   "name": "conda-root-py"
  },
  "language_info": {
   "codemirror_mode": {
    "name": "ipython",
    "version": 3
   },
   "file_extension": ".py",
   "mimetype": "text/x-python",
   "name": "python",
   "nbconvert_exporter": "python",
   "pygments_lexer": "ipython3",
   "version": "3.9.7"
  }
 },
 "nbformat": 4,
 "nbformat_minor": 5
}
